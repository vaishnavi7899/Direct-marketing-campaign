{
  "nbformat": 4,
  "nbformat_minor": 0,
  "metadata": {
    "colab": {
      "name": "Assignment",
      "provenance": [],
      "authorship_tag": "ABX9TyNoHxYXZkGBH3zlXv+k6/NQ",
      "include_colab_link": true
    },
    "kernelspec": {
      "name": "python3",
      "display_name": "Python 3"
    }
  },
  "cells": [
    {
      "cell_type": "markdown",
      "metadata": {
        "id": "view-in-github",
        "colab_type": "text"
      },
      "source": [
        "<a href=\"https://colab.research.google.com/github/vaishnavi7899/Direct-marketing-campaign/blob/master/directmarketingcamapaign.ipynb\" target=\"_parent\"><img src=\"https://colab.research.google.com/assets/colab-badge.svg\" alt=\"Open In Colab\"/></a>"
      ]
    },
    {
      "cell_type": "markdown",
      "metadata": {
        "id": "kvFZv0c9wusM",
        "colab_type": "text"
      },
      "source": [
        "IMPORT LIBRARIES"
      ]
    },
    {
      "cell_type": "code",
      "metadata": {
        "id": "ohBJ7SSclHT4",
        "colab_type": "code",
        "colab": {}
      },
      "source": [
        "import numpy as np\n",
        "import matplotlib.pyplot as plt\n",
        "import pandas as pd\n",
        "import sklearn\n",
        "import seaborn as sns\n",
        "\n"
      ],
      "execution_count": null,
      "outputs": []
    },
    {
      "cell_type": "markdown",
      "metadata": {
        "id": "kpDcEbGKKRFv",
        "colab_type": "text"
      },
      "source": [
        ""
      ]
    },
    {
      "cell_type": "markdown",
      "metadata": {
        "id": "8ZnZAJXowt1d",
        "colab_type": "text"
      },
      "source": [
        "IMPORT DATASET INTO X AND Y WHERE THEY ARE INDEPENDENT AND DEPENDENT VARIABLE RESPECTIVELY "
      ]
    },
    {
      "cell_type": "code",
      "metadata": {
        "id": "F0rCNUniwxxI",
        "colab_type": "code",
        "colab": {
          "base_uri": "https://localhost:8080/",
          "height": 150
        },
        "outputId": "73418e18-d682-4d09-b9cb-c586217f97f4"
      },
      "source": [
        "dataset= pd.read_csv('bankfinal.csv')\n",
        "X = dataset.iloc[:, :-1].values\n",
        "y = dataset.iloc[:, -1].values\n",
        "print(X)\n",
        "print(y)\n",
        "\n"
      ],
      "execution_count": null,
      "outputs": [
        {
          "output_type": "stream",
          "text": [
            "[[30 'unemployed' 'married' ... -1 0 'unknown']\n",
            " [33 'services' 'married' ... 339 4 'failure']\n",
            " [35 'management' 'single' ... 330 1 'failure']\n",
            " ...\n",
            " [57 'technician' 'married' ... -1 0 'unknown']\n",
            " [28 'blue-collar' 'married' ... 211 3 'other']\n",
            " [44 'entrepreneur' 'single' ... 249 7 'other']]\n",
            "['no' 'no' 'no' ... 'no' 'no' 'no']\n"
          ],
          "name": "stdout"
        }
      ]
    },
    {
      "cell_type": "markdown",
      "metadata": {
        "id": "K1y8uioAGcd7",
        "colab_type": "text"
      },
      "source": [
        "ENCODING THE CATEGORICAL DATA AMONG THE INDEPENDENT VARIABLES"
      ]
    },
    {
      "cell_type": "code",
      "metadata": {
        "id": "o_ZNs_-CIx0O",
        "colab_type": "code",
        "colab": {}
      },
      "source": [
        "from sklearn.compose import ColumnTransformer\n",
        "from sklearn.preprocessing import OneHotEncoder\n",
        "ct = ColumnTransformer(transformers = [('encoder',OneHotEncoder(),[1,2,3,4,6,7,8,10,15])], remainder='passthrough')\n",
        "X = np.array(ct.fit_transform(X)) "
      ],
      "execution_count": null,
      "outputs": []
    },
    {
      "cell_type": "markdown",
      "metadata": {
        "id": "GRznargJKjre",
        "colab_type": "text"
      },
      "source": [
        "ENCODING THE CATEGORICAL DATA IN THE DEPENDENT VARIABLE"
      ]
    },
    {
      "cell_type": "code",
      "metadata": {
        "id": "wxt8qHZTKbsF",
        "colab_type": "code",
        "colab": {
          "base_uri": "https://localhost:8080/",
          "height": 33
        },
        "outputId": "80751bbf-54d4-4f3c-e8ec-004945cfb291"
      },
      "source": [
        "from sklearn.preprocessing import LabelEncoder\n",
        "le = LabelEncoder()\n",
        "y = le.fit_transform(y)\n",
        "print(y)"
      ],
      "execution_count": null,
      "outputs": [
        {
          "output_type": "stream",
          "text": [
            "[0 0 0 ... 0 0 0]\n"
          ],
          "name": "stdout"
        }
      ]
    },
    {
      "cell_type": "markdown",
      "metadata": {
        "id": "pcuJixq5NJVh",
        "colab_type": "text"
      },
      "source": [
        "SPLIT INTO TRAINING AND TESTING DATA"
      ]
    },
    {
      "cell_type": "code",
      "metadata": {
        "id": "QMPF5mrnNJoU",
        "colab_type": "code",
        "colab": {
          "base_uri": "https://localhost:8080/",
          "height": 283
        },
        "outputId": "082981cd-d49e-463e-ba14-3269ccc79891"
      },
      "source": [
        "from sklearn.model_selection import train_test_split\n",
        "X_train, X_test, y_train, y_test = train_test_split(X, y, test_size = 0.25, random_state = 0)\n",
        "\n",
        "print(X_train)\n",
        "\n",
        "print(X_test)\n",
        "\n",
        "print(y_test)\n",
        "\n",
        "print(y_train)"
      ],
      "execution_count": null,
      "outputs": [
        {
          "output_type": "stream",
          "text": [
            "[[0.0 0.0 0.0 ... 9 -1 0]\n",
            " [0.0 1.0 0.0 ... 3 357 1]\n",
            " [0.0 1.0 0.0 ... 1 -1 0]\n",
            " ...\n",
            " [0.0 1.0 0.0 ... 3 181 1]\n",
            " [0.0 1.0 0.0 ... 1 -1 0]\n",
            " [0.0 0.0 0.0 ... 2 -1 0]]\n",
            "[[0.0 1.0 0.0 ... 3 -1 0]\n",
            " [0.0 0.0 0.0 ... 2 -1 0]\n",
            " [0.0 0.0 0.0 ... 1 -1 0]\n",
            " ...\n",
            " [0.0 0.0 0.0 ... 12 -1 0]\n",
            " [0.0 0.0 1.0 ... 2 -1 0]\n",
            " [0.0 1.0 0.0 ... 6 -1 0]]\n",
            "[0 0 0 ... 0 1 0]\n",
            "[0 0 0 ... 1 0 0]\n"
          ],
          "name": "stdout"
        }
      ]
    },
    {
      "cell_type": "markdown",
      "metadata": {
        "id": "EXUCACNBLW0c",
        "colab_type": "text"
      },
      "source": [
        "FEATURE SCALING"
      ]
    },
    {
      "cell_type": "code",
      "metadata": {
        "id": "AqImdKmiLaV_",
        "colab_type": "code",
        "colab": {
          "base_uri": "https://localhost:8080/",
          "height": 450
        },
        "outputId": "30539439-f4c3-4d97-d4be-15418164b36e"
      },
      "source": [
        "from sklearn.preprocessing import StandardScaler\n",
        "sc = StandardScaler()\n",
        "X_train = sc.fit_transform(X_train)\n",
        "X_test = sc.fit_transform(X_test)\n",
        "\n",
        "print(X_test)\n",
        "\n",
        "print(X_train)\n"
      ],
      "execution_count": null,
      "outputs": [
        {
          "output_type": "stream",
          "text": [
            "[[-0.34129999  1.94220285 -0.21052632 ...  0.06290744 -0.40639282\n",
            "  -0.31982753]\n",
            " [-0.34129999 -0.51487928 -0.21052632 ... -0.24643305 -0.40639282\n",
            "  -0.31982753]\n",
            " [-0.34129999 -0.51487928 -0.21052632 ... -0.55577353 -0.40639282\n",
            "  -0.31982753]\n",
            " ...\n",
            " [-0.34129999 -0.51487928 -0.21052632 ...  2.8469718  -0.40639282\n",
            "  -0.31982753]\n",
            " [-0.34129999 -0.51487928  4.75       ... -0.24643305 -0.40639282\n",
            "  -0.31982753]\n",
            " [-0.34129999  1.94220285 -0.21052632 ...  0.99092889 -0.40639282\n",
            "  -0.31982753]]\n",
            "[[-0.34469099 -0.51425049 -0.19156526 ...  2.02375834 -0.40752621\n",
            "  -0.32060803]\n",
            " [-0.34469099  1.94457765 -0.19156526 ...  0.06760928  3.14616887\n",
            "   0.26943606]\n",
            " [-0.34469099  1.94457765 -0.19156526 ... -0.5844404  -0.40752621\n",
            "  -0.32060803]\n",
            " ...\n",
            " [-0.34469099  1.94457765 -0.19156526 ...  0.06760928  1.3991009\n",
            "   0.26943606]\n",
            " [-0.34469099  1.94457765 -0.19156526 ... -0.5844404  -0.40752621\n",
            "  -0.32060803]\n",
            " [-0.34469099 -0.51425049 -0.19156526 ... -0.25841556 -0.40752621\n",
            "  -0.32060803]]\n"
          ],
          "name": "stdout"
        }
      ]
    },
    {
      "cell_type": "markdown",
      "metadata": {
        "id": "LgLy7nC-Nbp5",
        "colab_type": "text"
      },
      "source": [
        "TRAINING THE LOGISTIC REGRESSION MODEL ON TRAINING SET"
      ]
    },
    {
      "cell_type": "code",
      "metadata": {
        "id": "30ZFrXTFNcAH",
        "colab_type": "code",
        "colab": {
          "base_uri": "https://localhost:8080/",
          "height": 100
        },
        "outputId": "cb88038d-9265-4842-b5d5-19f083185025"
      },
      "source": [
        "\n",
        "from sklearn.linear_model import LogisticRegression\n",
        "classifier = LogisticRegression(random_state=0)\n",
        "classifier.fit(X_train,y_train)"
      ],
      "execution_count": null,
      "outputs": [
        {
          "output_type": "execute_result",
          "data": {
            "text/plain": [
              "LogisticRegression(C=1.0, class_weight=None, dual=False, fit_intercept=True,\n",
              "                   intercept_scaling=1, l1_ratio=None, max_iter=100,\n",
              "                   multi_class='auto', n_jobs=None, penalty='l2',\n",
              "                   random_state=0, solver='lbfgs', tol=0.0001, verbose=0,\n",
              "                   warm_start=False)"
            ]
          },
          "metadata": {
            "tags": []
          },
          "execution_count": 8
        }
      ]
    },
    {
      "cell_type": "markdown",
      "metadata": {
        "id": "T5EBu5-CNuUy",
        "colab_type": "text"
      },
      "source": [
        "PREDICTING TEST RESULT"
      ]
    },
    {
      "cell_type": "code",
      "metadata": {
        "id": "ttqfqT16Nuxe",
        "colab_type": "code",
        "colab": {
          "base_uri": "https://localhost:8080/",
          "height": 133
        },
        "outputId": "5e53cea0-d0fa-4147-e368-22a934050e74"
      },
      "source": [
        "y_pred = classifier.predict(X_test)\n",
        "print(np.concatenate((y_pred.reshape(len(y_pred),1), y_test.reshape(len(y_test),1)),1))"
      ],
      "execution_count": null,
      "outputs": [
        {
          "output_type": "stream",
          "text": [
            "[[0 0]\n",
            " [0 0]\n",
            " [0 0]\n",
            " ...\n",
            " [0 0]\n",
            " [0 1]\n",
            " [0 0]]\n"
          ],
          "name": "stdout"
        }
      ]
    },
    {
      "cell_type": "markdown",
      "metadata": {
        "id": "VH7ObYcQN9ix",
        "colab_type": "text"
      },
      "source": [
        "CONFUSION MATRIX"
      ]
    },
    {
      "cell_type": "code",
      "metadata": {
        "id": "Cfrdc4jNN90I",
        "colab_type": "code",
        "colab": {
          "base_uri": "https://localhost:8080/",
          "height": 66
        },
        "outputId": "d421ea31-1775-4264-d208-031de9f8829c"
      },
      "source": [
        "\n",
        "from sklearn.metrics import confusion_matrix, accuracy_score\n",
        "cm = confusion_matrix(y_test,y_pred)\n",
        "print(cm)\n",
        "accuracy_score(y_test,y_pred)\n"
      ],
      "execution_count": null,
      "outputs": [
        {
          "output_type": "stream",
          "text": [
            "[[971  22]\n",
            " [ 94  44]]\n"
          ],
          "name": "stdout"
        },
        {
          "output_type": "execute_result",
          "data": {
            "text/plain": [
              "0.8974358974358975"
            ]
          },
          "metadata": {
            "tags": []
          },
          "execution_count": 10
        }
      ]
    },
    {
      "cell_type": "code",
      "metadata": {
        "id": "6qRfOdrUOdT_",
        "colab_type": "code",
        "colab": {
          "base_uri": "https://localhost:8080/",
          "height": 50
        },
        "outputId": "392bb44b-ee6b-452b-bbdd-9c55f0d6b47a"
      },
      "source": [
        "a = accuracy_score(y_test,y_pred)*100\n",
        "print('The accuracy of the model is:')\n",
        "print(a)\n"
      ],
      "execution_count": null,
      "outputs": [
        {
          "output_type": "stream",
          "text": [
            "The accuracy of the model is:\n",
            "89.74358974358975\n"
          ],
          "name": "stdout"
        }
      ]
    },
    {
      "cell_type": "markdown",
      "metadata": {
        "id": "5-V3Jp8S9v8N",
        "colab_type": "text"
      },
      "source": [
        "UNDERSTANDING QUANTITIVE VARIABLES OF DATASET"
      ]
    },
    {
      "cell_type": "code",
      "metadata": {
        "id": "98JFn7to2uZD",
        "colab_type": "code",
        "colab": {
          "base_uri": "https://localhost:8080/",
          "height": 287
        },
        "outputId": "17b90ce2-aede-4209-c512-d995d6ed3890"
      },
      "source": [
        "dataset.describe()"
      ],
      "execution_count": null,
      "outputs": [
        {
          "output_type": "execute_result",
          "data": {
            "text/html": [
              "<div>\n",
              "<style scoped>\n",
              "    .dataframe tbody tr th:only-of-type {\n",
              "        vertical-align: middle;\n",
              "    }\n",
              "\n",
              "    .dataframe tbody tr th {\n",
              "        vertical-align: top;\n",
              "    }\n",
              "\n",
              "    .dataframe thead th {\n",
              "        text-align: right;\n",
              "    }\n",
              "</style>\n",
              "<table border=\"1\" class=\"dataframe\">\n",
              "  <thead>\n",
              "    <tr style=\"text-align: right;\">\n",
              "      <th></th>\n",
              "      <th>age</th>\n",
              "      <th>balance</th>\n",
              "      <th>day</th>\n",
              "      <th>duration</th>\n",
              "      <th>campaign</th>\n",
              "      <th>pdays</th>\n",
              "      <th>previous</th>\n",
              "    </tr>\n",
              "  </thead>\n",
              "  <tbody>\n",
              "    <tr>\n",
              "      <th>count</th>\n",
              "      <td>4521.000000</td>\n",
              "      <td>4521.000000</td>\n",
              "      <td>4521.000000</td>\n",
              "      <td>4521.000000</td>\n",
              "      <td>4521.000000</td>\n",
              "      <td>4521.000000</td>\n",
              "      <td>4521.000000</td>\n",
              "    </tr>\n",
              "    <tr>\n",
              "      <th>mean</th>\n",
              "      <td>41.170095</td>\n",
              "      <td>1422.657819</td>\n",
              "      <td>15.915284</td>\n",
              "      <td>263.961292</td>\n",
              "      <td>2.793630</td>\n",
              "      <td>39.766645</td>\n",
              "      <td>0.542579</td>\n",
              "    </tr>\n",
              "    <tr>\n",
              "      <th>std</th>\n",
              "      <td>10.576211</td>\n",
              "      <td>3009.638142</td>\n",
              "      <td>8.247667</td>\n",
              "      <td>259.856633</td>\n",
              "      <td>3.109807</td>\n",
              "      <td>100.121124</td>\n",
              "      <td>1.693562</td>\n",
              "    </tr>\n",
              "    <tr>\n",
              "      <th>min</th>\n",
              "      <td>19.000000</td>\n",
              "      <td>-3313.000000</td>\n",
              "      <td>1.000000</td>\n",
              "      <td>4.000000</td>\n",
              "      <td>1.000000</td>\n",
              "      <td>-1.000000</td>\n",
              "      <td>0.000000</td>\n",
              "    </tr>\n",
              "    <tr>\n",
              "      <th>25%</th>\n",
              "      <td>33.000000</td>\n",
              "      <td>69.000000</td>\n",
              "      <td>9.000000</td>\n",
              "      <td>104.000000</td>\n",
              "      <td>1.000000</td>\n",
              "      <td>-1.000000</td>\n",
              "      <td>0.000000</td>\n",
              "    </tr>\n",
              "    <tr>\n",
              "      <th>50%</th>\n",
              "      <td>39.000000</td>\n",
              "      <td>444.000000</td>\n",
              "      <td>16.000000</td>\n",
              "      <td>185.000000</td>\n",
              "      <td>2.000000</td>\n",
              "      <td>-1.000000</td>\n",
              "      <td>0.000000</td>\n",
              "    </tr>\n",
              "    <tr>\n",
              "      <th>75%</th>\n",
              "      <td>49.000000</td>\n",
              "      <td>1480.000000</td>\n",
              "      <td>21.000000</td>\n",
              "      <td>329.000000</td>\n",
              "      <td>3.000000</td>\n",
              "      <td>-1.000000</td>\n",
              "      <td>0.000000</td>\n",
              "    </tr>\n",
              "    <tr>\n",
              "      <th>max</th>\n",
              "      <td>87.000000</td>\n",
              "      <td>71188.000000</td>\n",
              "      <td>31.000000</td>\n",
              "      <td>3025.000000</td>\n",
              "      <td>50.000000</td>\n",
              "      <td>871.000000</td>\n",
              "      <td>25.000000</td>\n",
              "    </tr>\n",
              "  </tbody>\n",
              "</table>\n",
              "</div>"
            ],
            "text/plain": [
              "               age       balance  ...        pdays     previous\n",
              "count  4521.000000   4521.000000  ...  4521.000000  4521.000000\n",
              "mean     41.170095   1422.657819  ...    39.766645     0.542579\n",
              "std      10.576211   3009.638142  ...   100.121124     1.693562\n",
              "min      19.000000  -3313.000000  ...    -1.000000     0.000000\n",
              "25%      33.000000     69.000000  ...    -1.000000     0.000000\n",
              "50%      39.000000    444.000000  ...    -1.000000     0.000000\n",
              "75%      49.000000   1480.000000  ...    -1.000000     0.000000\n",
              "max      87.000000  71188.000000  ...   871.000000    25.000000\n",
              "\n",
              "[8 rows x 7 columns]"
            ]
          },
          "metadata": {
            "tags": []
          },
          "execution_count": 12
        }
      ]
    },
    {
      "cell_type": "code",
      "metadata": {
        "id": "9HVI1OwZgF2b",
        "colab_type": "code",
        "colab": {
          "base_uri": "https://localhost:8080/",
          "height": 257
        },
        "outputId": "639f3913-bcc8-4b5f-962b-28a8a989121a"
      },
      "source": [
        "dataset.corr()\n",
        "\n"
      ],
      "execution_count": null,
      "outputs": [
        {
          "output_type": "execute_result",
          "data": {
            "text/html": [
              "<div>\n",
              "<style scoped>\n",
              "    .dataframe tbody tr th:only-of-type {\n",
              "        vertical-align: middle;\n",
              "    }\n",
              "\n",
              "    .dataframe tbody tr th {\n",
              "        vertical-align: top;\n",
              "    }\n",
              "\n",
              "    .dataframe thead th {\n",
              "        text-align: right;\n",
              "    }\n",
              "</style>\n",
              "<table border=\"1\" class=\"dataframe\">\n",
              "  <thead>\n",
              "    <tr style=\"text-align: right;\">\n",
              "      <th></th>\n",
              "      <th>age</th>\n",
              "      <th>balance</th>\n",
              "      <th>day</th>\n",
              "      <th>duration</th>\n",
              "      <th>campaign</th>\n",
              "      <th>pdays</th>\n",
              "      <th>previous</th>\n",
              "    </tr>\n",
              "  </thead>\n",
              "  <tbody>\n",
              "    <tr>\n",
              "      <th>age</th>\n",
              "      <td>1.000000</td>\n",
              "      <td>0.083820</td>\n",
              "      <td>-0.017853</td>\n",
              "      <td>-0.002367</td>\n",
              "      <td>-0.005148</td>\n",
              "      <td>-0.008894</td>\n",
              "      <td>-0.003511</td>\n",
              "    </tr>\n",
              "    <tr>\n",
              "      <th>balance</th>\n",
              "      <td>0.083820</td>\n",
              "      <td>1.000000</td>\n",
              "      <td>-0.008677</td>\n",
              "      <td>-0.015950</td>\n",
              "      <td>-0.009976</td>\n",
              "      <td>0.009437</td>\n",
              "      <td>0.026196</td>\n",
              "    </tr>\n",
              "    <tr>\n",
              "      <th>day</th>\n",
              "      <td>-0.017853</td>\n",
              "      <td>-0.008677</td>\n",
              "      <td>1.000000</td>\n",
              "      <td>-0.024629</td>\n",
              "      <td>0.160706</td>\n",
              "      <td>-0.094352</td>\n",
              "      <td>-0.059114</td>\n",
              "    </tr>\n",
              "    <tr>\n",
              "      <th>duration</th>\n",
              "      <td>-0.002367</td>\n",
              "      <td>-0.015950</td>\n",
              "      <td>-0.024629</td>\n",
              "      <td>1.000000</td>\n",
              "      <td>-0.068382</td>\n",
              "      <td>0.010380</td>\n",
              "      <td>0.018080</td>\n",
              "    </tr>\n",
              "    <tr>\n",
              "      <th>campaign</th>\n",
              "      <td>-0.005148</td>\n",
              "      <td>-0.009976</td>\n",
              "      <td>0.160706</td>\n",
              "      <td>-0.068382</td>\n",
              "      <td>1.000000</td>\n",
              "      <td>-0.093137</td>\n",
              "      <td>-0.067833</td>\n",
              "    </tr>\n",
              "    <tr>\n",
              "      <th>pdays</th>\n",
              "      <td>-0.008894</td>\n",
              "      <td>0.009437</td>\n",
              "      <td>-0.094352</td>\n",
              "      <td>0.010380</td>\n",
              "      <td>-0.093137</td>\n",
              "      <td>1.000000</td>\n",
              "      <td>0.577562</td>\n",
              "    </tr>\n",
              "    <tr>\n",
              "      <th>previous</th>\n",
              "      <td>-0.003511</td>\n",
              "      <td>0.026196</td>\n",
              "      <td>-0.059114</td>\n",
              "      <td>0.018080</td>\n",
              "      <td>-0.067833</td>\n",
              "      <td>0.577562</td>\n",
              "      <td>1.000000</td>\n",
              "    </tr>\n",
              "  </tbody>\n",
              "</table>\n",
              "</div>"
            ],
            "text/plain": [
              "               age   balance       day  duration  campaign     pdays  previous\n",
              "age       1.000000  0.083820 -0.017853 -0.002367 -0.005148 -0.008894 -0.003511\n",
              "balance   0.083820  1.000000 -0.008677 -0.015950 -0.009976  0.009437  0.026196\n",
              "day      -0.017853 -0.008677  1.000000 -0.024629  0.160706 -0.094352 -0.059114\n",
              "duration -0.002367 -0.015950 -0.024629  1.000000 -0.068382  0.010380  0.018080\n",
              "campaign -0.005148 -0.009976  0.160706 -0.068382  1.000000 -0.093137 -0.067833\n",
              "pdays    -0.008894  0.009437 -0.094352  0.010380 -0.093137  1.000000  0.577562\n",
              "previous -0.003511  0.026196 -0.059114  0.018080 -0.067833  0.577562  1.000000"
            ]
          },
          "metadata": {
            "tags": []
          },
          "execution_count": 13
        }
      ]
    },
    {
      "cell_type": "markdown",
      "metadata": {
        "id": "FZgJ0WOAO04r",
        "colab_type": "text"
      },
      "source": [
        "HEATMAP USING SEABORN"
      ]
    },
    {
      "cell_type": "code",
      "metadata": {
        "id": "y4Me72fM4bY4",
        "colab_type": "code",
        "colab": {
          "base_uri": "https://localhost:8080/",
          "height": 488
        },
        "outputId": "93f8922a-bb40-45fc-b6e6-90f30ecb4d82"
      },
      "source": [
        "plt.figure(figsize=(7,7))\n",
        "sns.heatmap(dataset.corr() , annot=True , cmap= 'coolwarm')"
      ],
      "execution_count": null,
      "outputs": [
        {
          "output_type": "execute_result",
          "data": {
            "text/plain": [
              "<matplotlib.axes._subplots.AxesSubplot at 0x7fa7af6ac128>"
            ]
          },
          "metadata": {
            "tags": []
          },
          "execution_count": 14
        },
        {
          "output_type": "display_data",
          "data": {
            "image/png": "[encoded data removed]",
            "text/plain": [
              "<Figure size 504x504 with 2 Axes>"
            ]
          },
          "metadata": {
            "tags": [],
            "needs_background": "light"
          }
        }
      ]
    }
  ]
}